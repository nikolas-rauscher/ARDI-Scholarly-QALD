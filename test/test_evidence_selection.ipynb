{
 "cells": [
  {
   "cell_type": "code",
   "execution_count": 1,
   "metadata": {},
   "outputs": [],
   "source": [
    "import sys \n",
    "sys.path.append('../src')"
   ]
  },
  {
   "cell_type": "code",
   "execution_count": 2,
   "metadata": {},
   "outputs": [
    {
     "name": "stderr",
     "output_type": "stream",
     "text": [
      "/opt/homebrew/Caskroom/miniforge/base/envs/ml/lib/python3.12/site-packages/tqdm/auto.py:21: TqdmWarning: IProgress not found. Please update jupyter and ipywidgets. See https://ipywidgets.readthedocs.io/en/stable/user_install.html\n",
      "  from .autonotebook import tqdm as notebook_tqdm\n"
     ]
    }
   ],
   "source": [
    "import features.evidence_selection as selection\n",
    "\n",
    "import json\n",
    "file_path = \"../data/processed/test_processed_data.json\"\n",
    "\n",
    "# Open the JSON file and load its contents\n",
    "with open(file_path, \"r\") as file:\n",
    "    data = json.load(file)\n",
    "\n",
    "sample = data[0]\n"
   ]
  },
  {
   "cell_type": "code",
   "execution_count": 3,
   "metadata": {},
   "outputs": [],
   "source": [
    "triples=selection.evidence_triple_selection(sample['question'],sample[\"all_tripples\"],conserved_percentage=0.1)"
   ]
  },
  {
   "cell_type": "code",
   "execution_count": 4,
   "metadata": {},
   "outputs": [
    {
     "name": "stdout",
     "output_type": "stream",
     "text": [
      "What type of information sources were found to be lacking in organized information at Social Services offices according to the author's observation? \n",
      " 43\n"
     ]
    },
    {
     "data": {
      "text/plain": [
       "[{'subject': 'T. D. Wilson: Activity theory and information seeking. (2008)',\n",
       "  'predicate': 'authored by',\n",
       "  'object': 'Thomas D. Wilson 0001'},\n",
       " {'subject': 'Thomas D. Wilson: Human Information Behavior. (2000)',\n",
       "  'predicate': 'authored by',\n",
       "  'object': 'Thomas D. Wilson 0001'},\n",
       " {'subject': 'T. D. Wilson et al.: Uncertainty in Information Seeking. (2000)',\n",
       "  'predicate': 'authored by',\n",
       "  'object': 'Thomas D. Wilson 0001'},\n",
       " {'subject': 'T. D. Wilson: Report on a survey of readers of Information Research. (2012)',\n",
       "  'predicate': 'authored by',\n",
       "  'object': 'Thomas D. Wilson 0001'},\n",
       " {'subject': 'Tom Wilson: The CE Society AdCom Election Procedure [Society News]. (2013)',\n",
       "  'predicate': 'authored by',\n",
       "  'object': 'Thomas D. Wilson 0001'},\n",
       " {'subject': 'Tom Wilson: Workload Correlation and Visualization. (2010)',\n",
       "  'predicate': 'authored by',\n",
       "  'object': 'Thomas D. Wilson 0001'},\n",
       " {'subject': 'T. D. Wilson: On user studies and information needs. (2006)',\n",
       "  'predicate': 'authored by',\n",
       "  'object': 'Thomas D. Wilson 0001'},\n",
       " {'subject': 'T. D. Wilson: Talking about the problem: a content analysis of pre-search interviews. (2004)',\n",
       "  'predicate': 'authored by',\n",
       "  'object': 'Thomas D. Wilson 0001'},\n",
       " {'subject': 'T. D. Wilson: Information sharing: an exploration of the literature and some propositions. (2010)',\n",
       "  'predicate': 'authored by',\n",
       "  'object': 'Thomas D. Wilson 0001'},\n",
       " {'subject': 'T. D. Wilson: A re-examination of information seeking behaviour in the context of activity theory. (2006)',\n",
       "  'predicate': 'authored by',\n",
       "  'object': 'Thomas D. Wilson 0001'},\n",
       " {'subject': 'David K. Allen and Tom Wilson: Vertical trust/mistrust during information strategy formation. (2003)',\n",
       "  'predicate': 'authored by',\n",
       "  'object': 'Thomas D. Wilson 0001'},\n",
       " {'subject': 'Amanda Spink et al.: Information seeking and mediated searching study. Part 3. Successive searching. (2002)',\n",
       "  'predicate': 'authored by',\n",
       "  'object': 'Thomas D. Wilson 0001'},\n",
       " {'subject': 'Tom Wilson: ICCE 2013 Maintains Growth Trend [Society News]. (2013)',\n",
       "  'predicate': 'authored by',\n",
       "  'object': 'Thomas D. Wilson 0001'},\n",
       " {'subject': 'T. D. Wilson et al.: Information seeking and mediated searching: Part 2. Uncertainty and its correlates. (2002)',\n",
       "  'predicate': 'authored by',\n",
       "  'object': 'Thomas D. Wilson 0001'},\n",
       " {'subject': \"T. D. Wilson: The consciousness' drive. Information need and the search for meaning. (2018)\",\n",
       "  'predicate': 'authored by',\n",
       "  'object': 'Thomas D. Wilson 0001'},\n",
       " {'subject': 'Kalervo Järvelin and T. D. Wilson: On conceptual models for information seeking and retrieval research. (2003)',\n",
       "  'predicate': 'authored by',\n",
       "  'object': 'Thomas D. Wilson 0001'},\n",
       " {'subject': 'T. D. Wilson: On User studies and Information Needs. (1981)',\n",
       "  'predicate': 'authored by',\n",
       "  'object': 'Thomas D. Wilson 0001'},\n",
       " {'subject': 'Amanda Spink et al.: Information-seeking and mediated searching. Part 1. Theoretical framework and research design. (2002)',\n",
       "  'predicate': 'authored by',\n",
       "  'object': 'Thomas D. Wilson 0001'},\n",
       " {'subject': 'Lars Höglund et al.: Trust in Healthcare: An Information Perspective. (2004)',\n",
       "  'predicate': 'authored by',\n",
       "  'object': 'Thomas D. Wilson 0001'},\n",
       " {'subject': 'David Ellis et al.: Information Science and Information Systems: Conjunct Subjects Disjunct Disciplines. (1999)',\n",
       "  'predicate': 'authored by',\n",
       "  'object': 'Thomas D. Wilson 0001'},\n",
       " {'subject': \"T. D. Wilson and Elena Maceviciute: What's newsworthy about 'information seeking'? An analysis of Google's News Alerts. (2013)\",\n",
       "  'predicate': 'authored by',\n",
       "  'object': 'Thomas D. Wilson 0001'},\n",
       " {'subject': 'T. D. Wilson: Revisiting user studies and information needs. (2006)',\n",
       "  'predicate': 'authored by',\n",
       "  'object': 'Thomas D. Wilson 0001'},\n",
       " {'subject': 'T. D. Wilson: Information Research: a case study in the free electronic publication of research. (1998)',\n",
       "  'predicate': 'authored by',\n",
       "  'object': 'Thomas D. Wilson 0001'},\n",
       " {'subject': 'Nigel Ford et al.: Information seeking and mediated searching. Part 4. Cognitive styles in information seeking. (2002)',\n",
       "  'predicate': 'authored by',\n",
       "  'object': 'Thomas D. Wilson 0001'},\n",
       " {'subject': 'T. D. Wilson: The nonsense of knowledge management. (2002)',\n",
       "  'predicate': 'authored by',\n",
       "  'object': 'Thomas D. Wilson 0001'},\n",
       " {'subject': 'Thomas D. Wilson: Book Review: Management, Information and Power: a Narrative of the Involved Manager by Lucas D. Iltrona. (1998)',\n",
       "  'predicate': 'authored by',\n",
       "  'object': 'Thomas D. Wilson 0001'},\n",
       " {'subject': 'Tom Wilson: Overcoming the barriers to the implementation of information system strategies. (1991)',\n",
       "  'predicate': 'authored by',\n",
       "  'object': 'Thomas D. Wilson 0001'},\n",
       " {'subject': 'Michael E. D. Koenig and T. D. Wilson: Productivity Growth: The Take-Off Point. (1996)',\n",
       "  'predicate': 'authored by',\n",
       "  'object': 'Thomas D. Wilson 0001'},\n",
       " {'subject': 'Franklin Riley et al.: When politicians and the experts collide: Organization and the creation of information spheres. (2022)',\n",
       "  'predicate': 'authored by',\n",
       "  'object': 'Thomas D. Wilson 0001'},\n",
       " {'subject': 'Tom Wilson: The information user: past, present and future. (2008)',\n",
       "  'predicate': 'authored by',\n",
       "  'object': 'Thomas D. Wilson 0001'},\n",
       " {'subject': 'T. D. Wilson: A local study of journal use. (1994)',\n",
       "  'predicate': 'authored by',\n",
       "  'object': 'Thomas D. Wilson 0001'},\n",
       " {'subject': \"Thomas D. Wilson: Exploring models of information behaviour: the 'uncertainty' project. (1999)\",\n",
       "  'predicate': 'authored by',\n",
       "  'object': 'Thomas D. Wilson 0001'},\n",
       " {'subject': \"T. D. Wilson and David R. Streatfield: Action research and users' needs. (2001)\",\n",
       "  'predicate': 'authored by',\n",
       "  'object': 'Thomas D. Wilson 0001'},\n",
       " {'subject': 'T. D. Wilson: Research priorities in social welfare library and information work. (2001)',\n",
       "  'predicate': 'authored by',\n",
       "  'object': 'Thomas D. Wilson 0001'},\n",
       " {'subject': 'David Ellis et al.: Information seeking and mediated searching. Part 5. User-intermediary interaction. (2002)',\n",
       "  'predicate': 'authored by',\n",
       "  'object': 'Thomas D. Wilson 0001'},\n",
       " {'subject': 'T. D. Wilson: Information behaviour: an interdisciplinary perspective. (1997)',\n",
       "  'predicate': 'authored by',\n",
       "  'object': 'Thomas D. Wilson 0001'},\n",
       " {'subject': 'T. D. Wilson et al.: Information Needs in Local Authority Social Services departments: a second Report on Project Iniss. (1979)',\n",
       "  'predicate': 'authored by',\n",
       "  'object': 'Thomas D. Wilson 0001'},\n",
       " {'subject': 'Thomas D. Wilson 0001',\n",
       "  'predicate': 'link',\n",
       "  'object': 'https://www.scopus.com/authid/detail.uri?authorId=7403496067'},\n",
       " {'subject': 'T. D. Wilson: Our reviewers. (2007)',\n",
       "  'predicate': 'authored by',\n",
       "  'object': 'Thomas D. Wilson 0001'},\n",
       " {'subject': 'Ian Owens et al.: Information And Business Performance: A Study Of Information Systems And Services In High-Performing Companies. (1995)',\n",
       "  'predicate': 'authored by',\n",
       "  'object': 'Thomas D. Wilson 0001'},\n",
       " {'subject': 'Thomas D. Wilson 0001', 'predicate': 'is', 'object': 'Person'},\n",
       " {'subject': 'T. D. Wilson: The e-book phenomenon: a disruptive technology. (2014)',\n",
       "  'predicate': 'authored by',\n",
       "  'object': 'Thomas D. Wilson 0001'},\n",
       " {'subject': 'Thomas D. Wilson 0001',\n",
       "  'predicate': 'link',\n",
       "  'object': 'http://informationr.net/tdw/'}]"
      ]
     },
     "execution_count": 4,
     "metadata": {},
     "output_type": "execute_result"
    }
   ],
   "source": [
    "print(sample['question'],\"\\n\", len(triples))\n",
    "triples"
   ]
  },
  {
   "cell_type": "code",
   "execution_count": 15,
   "metadata": {},
   "outputs": [],
   "source": [
    "import importlib\n",
    "importlib.reload(selection)\n",
    "triplet_extractor = selection.load_triplet_extractor()\n",
    "triples_llm=selection.evidence_triple_selection(sample['question'],sample[\"all_tripples\"],triplet_extractor=triplet_extractor,llm=True)"
   ]
  },
  {
   "cell_type": "code",
   "execution_count": 13,
   "metadata": {},
   "outputs": [
    {
     "name": "stdout",
     "output_type": "stream",
     "text": [
      "43\n"
     ]
    }
   ],
   "source": [
    "print(len(triples_llm))"
   ]
  },
  {
   "cell_type": "code",
   "execution_count": 6,
   "metadata": {},
   "outputs": [
    {
     "name": "stdout",
     "output_type": "stream",
     "text": [
      "What type of information sources were found to be lacking in organized information at Social Services offices according to the author's observation? \n",
      " 43\n"
     ]
    },
    {
     "data": {
      "text/plain": [
       "[{'subject': 'T. D. Wilson: Activity theory and information seeking. (2008)',\n",
       "  'predicate': 'authored by',\n",
       "  'object': 'Thomas D. Wilson 0001'},\n",
       " {'subject': 'Thomas D. Wilson: Human Information Behavior. (2000)',\n",
       "  'predicate': 'authored by',\n",
       "  'object': 'Thomas D. Wilson 0001'},\n",
       " {'subject': 'T. D. Wilson et al.: Uncertainty in Information Seeking. (2000)',\n",
       "  'predicate': 'authored by',\n",
       "  'object': 'Thomas D. Wilson 0001'},\n",
       " {'subject': 'T. D. Wilson: Report on a survey of readers of Information Research. (2012)',\n",
       "  'predicate': 'authored by',\n",
       "  'object': 'Thomas D. Wilson 0001'},\n",
       " {'subject': 'Tom Wilson: The CE Society AdCom Election Procedure [Society News]. (2013)',\n",
       "  'predicate': 'authored by',\n",
       "  'object': 'Thomas D. Wilson 0001'},\n",
       " {'subject': 'Tom Wilson: Workload Correlation and Visualization. (2010)',\n",
       "  'predicate': 'authored by',\n",
       "  'object': 'Thomas D. Wilson 0001'},\n",
       " {'subject': 'T. D. Wilson: On user studies and information needs. (2006)',\n",
       "  'predicate': 'authored by',\n",
       "  'object': 'Thomas D. Wilson 0001'},\n",
       " {'subject': 'T. D. Wilson: Talking about the problem: a content analysis of pre-search interviews. (2004)',\n",
       "  'predicate': 'authored by',\n",
       "  'object': 'Thomas D. Wilson 0001'},\n",
       " {'subject': 'T. D. Wilson: Information sharing: an exploration of the literature and some propositions. (2010)',\n",
       "  'predicate': 'authored by',\n",
       "  'object': 'Thomas D. Wilson 0001'},\n",
       " {'subject': 'T. D. Wilson: A re-examination of information seeking behaviour in the context of activity theory. (2006)',\n",
       "  'predicate': 'authored by',\n",
       "  'object': 'Thomas D. Wilson 0001'},\n",
       " {'subject': 'David K. Allen and Tom Wilson: Vertical trust/mistrust during information strategy formation. (2003)',\n",
       "  'predicate': 'authored by',\n",
       "  'object': 'Thomas D. Wilson 0001'},\n",
       " {'subject': 'Amanda Spink et al.: Information seeking and mediated searching study. Part 3. Successive searching. (2002)',\n",
       "  'predicate': 'authored by',\n",
       "  'object': 'Thomas D. Wilson 0001'},\n",
       " {'subject': 'Tom Wilson: ICCE 2013 Maintains Growth Trend [Society News]. (2013)',\n",
       "  'predicate': 'authored by',\n",
       "  'object': 'Thomas D. Wilson 0001'},\n",
       " {'subject': 'T. D. Wilson et al.: Information seeking and mediated searching: Part 2. Uncertainty and its correlates. (2002)',\n",
       "  'predicate': 'authored by',\n",
       "  'object': 'Thomas D. Wilson 0001'},\n",
       " {'subject': \"T. D. Wilson: The consciousness' drive. Information need and the search for meaning. (2018)\",\n",
       "  'predicate': 'authored by',\n",
       "  'object': 'Thomas D. Wilson 0001'},\n",
       " {'subject': 'Kalervo Järvelin and T. D. Wilson: On conceptual models for information seeking and retrieval research. (2003)',\n",
       "  'predicate': 'authored by',\n",
       "  'object': 'Thomas D. Wilson 0001'},\n",
       " {'subject': 'T. D. Wilson: On User studies and Information Needs. (1981)',\n",
       "  'predicate': 'authored by',\n",
       "  'object': 'Thomas D. Wilson 0001'},\n",
       " {'subject': 'Amanda Spink et al.: Information-seeking and mediated searching. Part 1. Theoretical framework and research design. (2002)',\n",
       "  'predicate': 'authored by',\n",
       "  'object': 'Thomas D. Wilson 0001'},\n",
       " {'subject': 'Lars Höglund et al.: Trust in Healthcare: An Information Perspective. (2004)',\n",
       "  'predicate': 'authored by',\n",
       "  'object': 'Thomas D. Wilson 0001'},\n",
       " {'subject': 'David Ellis et al.: Information Science and Information Systems: Conjunct Subjects Disjunct Disciplines. (1999)',\n",
       "  'predicate': 'authored by',\n",
       "  'object': 'Thomas D. Wilson 0001'},\n",
       " {'subject': \"T. D. Wilson and Elena Maceviciute: What's newsworthy about 'information seeking'? An analysis of Google's News Alerts. (2013)\",\n",
       "  'predicate': 'authored by',\n",
       "  'object': 'Thomas D. Wilson 0001'},\n",
       " {'subject': 'T. D. Wilson: Revisiting user studies and information needs. (2006)',\n",
       "  'predicate': 'authored by',\n",
       "  'object': 'Thomas D. Wilson 0001'},\n",
       " {'subject': 'T. D. Wilson: Information Research: a case study in the free electronic publication of research. (1998)',\n",
       "  'predicate': 'authored by',\n",
       "  'object': 'Thomas D. Wilson 0001'},\n",
       " {'subject': 'Nigel Ford et al.: Information seeking and mediated searching. Part 4. Cognitive styles in information seeking. (2002)',\n",
       "  'predicate': 'authored by',\n",
       "  'object': 'Thomas D. Wilson 0001'},\n",
       " {'subject': 'T. D. Wilson: The nonsense of knowledge management. (2002)',\n",
       "  'predicate': 'authored by',\n",
       "  'object': 'Thomas D. Wilson 0001'},\n",
       " {'subject': 'Thomas D. Wilson: Book Review: Management, Information and Power: a Narrative of the Involved Manager by Lucas D. Iltrona. (1998)',\n",
       "  'predicate': 'authored by',\n",
       "  'object': 'Thomas D. Wilson 0001'},\n",
       " {'subject': 'Tom Wilson: Overcoming the barriers to the implementation of information system strategies. (1991)',\n",
       "  'predicate': 'authored by',\n",
       "  'object': 'Thomas D. Wilson 0001'},\n",
       " {'subject': 'Michael E. D. Koenig and T. D. Wilson: Productivity Growth: The Take-Off Point. (1996)',\n",
       "  'predicate': 'authored by',\n",
       "  'object': 'Thomas D. Wilson 0001'},\n",
       " {'subject': 'Franklin Riley et al.: When politicians and the experts collide: Organization and the creation of information spheres. (2022)',\n",
       "  'predicate': 'authored by',\n",
       "  'object': 'Thomas D. Wilson 0001'},\n",
       " {'subject': 'Tom Wilson: The information user: past, present and future. (2008)',\n",
       "  'predicate': 'authored by',\n",
       "  'object': 'Thomas D. Wilson 0001'},\n",
       " {'subject': 'T. D. Wilson: A local study of journal use. (1994)',\n",
       "  'predicate': 'authored by',\n",
       "  'object': 'Thomas D. Wilson 0001'},\n",
       " {'subject': \"Thomas D. Wilson: Exploring models of information behaviour: the 'uncertainty' project. (1999)\",\n",
       "  'predicate': 'authored by',\n",
       "  'object': 'Thomas D. Wilson 0001'},\n",
       " {'subject': \"T. D. Wilson and David R. Streatfield: Action research and users' needs. (2001)\",\n",
       "  'predicate': 'authored by',\n",
       "  'object': 'Thomas D. Wilson 0001'},\n",
       " {'subject': 'T. D. Wilson: Research priorities in social welfare library and information work. (2001)',\n",
       "  'predicate': 'authored by',\n",
       "  'object': 'Thomas D. Wilson 0001'},\n",
       " {'subject': 'David Ellis et al.: Information seeking and mediated searching. Part 5. User-intermediary interaction. (2002)',\n",
       "  'predicate': 'authored by',\n",
       "  'object': 'Thomas D. Wilson 0001'},\n",
       " {'subject': 'T. D. Wilson: Information behaviour: an interdisciplinary perspective. (1997)',\n",
       "  'predicate': 'authored by',\n",
       "  'object': 'Thomas D. Wilson 0001'},\n",
       " {'subject': 'T. D. Wilson et al.: Information Needs in Local Authority Social Services departments: a second Report on Project Iniss. (1979)',\n",
       "  'predicate': 'authored by',\n",
       "  'object': 'Thomas D. Wilson 0001'},\n",
       " {'subject': 'Thomas D. Wilson 0001',\n",
       "  'predicate': 'link',\n",
       "  'object': 'https://www.scopus.com/authid/detail.uri?authorId=7403496067'},\n",
       " {'subject': 'T. D. Wilson: Our reviewers. (2007)',\n",
       "  'predicate': 'authored by',\n",
       "  'object': 'Thomas D. Wilson 0001'},\n",
       " {'subject': 'Ian Owens et al.: Information And Business Performance: A Study Of Information Systems And Services In High-Performing Companies. (1995)',\n",
       "  'predicate': 'authored by',\n",
       "  'object': 'Thomas D. Wilson 0001'},\n",
       " {'subject': 'Thomas D. Wilson 0001', 'predicate': 'is', 'object': 'Person'},\n",
       " {'subject': 'T. D. Wilson: The e-book phenomenon: a disruptive technology. (2014)',\n",
       "  'predicate': 'authored by',\n",
       "  'object': 'Thomas D. Wilson 0001'},\n",
       " {'subject': 'Thomas D. Wilson 0001',\n",
       "  'predicate': 'link',\n",
       "  'object': 'http://informationr.net/tdw/'}]"
      ]
     },
     "execution_count": 6,
     "metadata": {},
     "output_type": "execute_result"
    }
   ],
   "source": [
    "print(sample['question'],\"\\n\", len(triples))\n",
    "triples"
   ]
  },
  {
   "cell_type": "code",
   "execution_count": 19,
   "metadata": {},
   "outputs": [
    {
     "name": "stdout",
     "output_type": "stream",
     "text": [
      "0.23255813953488372\n"
     ]
    }
   ],
   "source": [
    "import ast\n",
    "def count_same_pourcentage(list1, list2):\n",
    "    same_items = 0\n",
    "    for item1 in list1:\n",
    "        for item2 in list2:\n",
    "            if item1 == item2:\n",
    "                same_items += 1\n",
    "\n",
    "    return same_items/len(list1)\n",
    "\n",
    "print(count_same_pourcentage(triples,triples_llm))"
   ]
  }
 ],
 "metadata": {
  "kernelspec": {
   "display_name": "ml",
   "language": "python",
   "name": "python3"
  },
  "language_info": {
   "codemirror_mode": {
    "name": "ipython",
    "version": 3
   },
   "file_extension": ".py",
   "mimetype": "text/x-python",
   "name": "python",
   "nbconvert_exporter": "python",
   "pygments_lexer": "ipython3",
   "version": "3.12.0"
  }
 },
 "nbformat": 4,
 "nbformat_minor": 2
}
