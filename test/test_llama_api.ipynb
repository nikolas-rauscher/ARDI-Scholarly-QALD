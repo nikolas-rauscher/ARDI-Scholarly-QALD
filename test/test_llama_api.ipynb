{
 "cells": [
  {
   "cell_type": "code",
   "execution_count": 1,
   "metadata": {},
   "outputs": [],
   "source": [
    "import sys\n",
    "sys.path.append('../src')"
   ]
  },
  {
   "cell_type": "code",
   "execution_count": 2,
   "metadata": {},
   "outputs": [
    {
     "name": "stderr",
     "output_type": "stream",
     "text": [
      "/opt/homebrew/Caskroom/miniforge/base/envs/ml/lib/python3.12/site-packages/tqdm/auto.py:21: TqdmWarning: IProgress not found. Please update jupyter and ipywidgets. See https://ipywidgets.readthedocs.io/en/stable/user_install.html\n",
      "  from .autonotebook import tqdm as notebook_tqdm\n"
     ]
    }
   ],
   "source": [
    "import models.zero_shot_prompting as zsp\n",
    "import json"
   ]
  },
  {
   "cell_type": "code",
   "execution_count": 3,
   "metadata": {},
   "outputs": [],
   "source": [
    "with open(\"../data/raw/prompt_template.txt\", \"r\") as file:\n",
    "    prompt_template = file.read()\n",
    "\n",
    "with open('../data/processed/test_processed_data_100.json', 'r') as file:\n",
    "    examples = json.load(file)\n",
    "\n",
    "save_file_v_e = \"../results/zero-shot-prompting-with-verbalizer-with-evidence-selection.json\"\n",
    "save_file_v = \"../results/zero-shot-prompting-with-verbalizer.json\"\n",
    "save_file_e = \"../results/zero-shot-prompting-with-evidence-selection.json\"\n",
    "save_file = \"../results/zero-shot-prompting.json\"\n",
    "\n",
    "examples=[examples[0]]\n"
   ]
  },
  {
   "cell_type": "code",
   "execution_count": 4,
   "metadata": {},
   "outputs": [],
   "source": [
    "from llamaapi import LlamaAPI\n",
    "\n",
    "llama = LlamaAPI(\"LL-6y4m0SOZr19zOOwik5xOojWL2Sml3i6OBb47AjpMiMKuEy3BMulYsYm6GM4zuI0V\")"
   ]
  },
  {
   "cell_type": "code",
   "execution_count": 7,
   "metadata": {},
   "outputs": [
    {
     "data": {
      "text/plain": [
       "<module 'models.zero_shot_prompting' from '/Users/celes/Documents/Projects/ARDI-Scholarly-QALD/test/../src/models/zero_shot_prompting.py'>"
      ]
     },
     "execution_count": 7,
     "metadata": {},
     "output_type": "execute_result"
    }
   ],
   "source": [
    "import importlib\n",
    "importlib.reload(zsp)"
   ]
  },
  {
   "cell_type": "code",
   "execution_count": 13,
   "metadata": {},
   "outputs": [
    {
     "data": {
      "text/plain": [
       "\"[INST]\\nUtilize the provided context information, structured by \\nto generate answers to the following question: \\n- Generate the answer to the question based on the provided context.\\n- Avoid including any explanations or apologies in your responses.\\n- Only respond to questions that ask for the answer to the target question without any additional information.\\n- Strictly provide the answer without any additional text.\\nQuestion: What type of information sources were found to be lacking in organized information at Social Services offices according to the author's observation?\\nContext: Thomas D. Wilson 0001 is CreatorThomas D. Wilson 0001 is PersonThomas D. Wilson 0001 link http://www.wikidata.org/entity/Q7788804Thomas D. Wilson 0001 affiliation University of Borås, SwedenThomas D. Wilson 0001 affiliation University of Leeds, UKThomas D. Wilson 0001 link http://informationr.net/tdw/Thomas D. Wilson 0001 primary affiliation University of Leeds, UKThomas D. Wilson 0001 link http://informationr.net/tdw/Thomas D. Wilson 0001 link https://www.researcherid.com/rid/N-9363-2013Thomas D. Wilson 0001 link https://scholar.google.com/citations?user=SVrANcwAAAAJThomas D. Wilson 0001 link https://www.scopus.com/authid/detail.uri?authorId=7403496067Thomas D. Wilson 0001 link https://en.wikipedia.org/wiki/Thomas_D._WilsonElena Maceviciute and Thomas D. Wilson: E-Books in Swedish Public Libraries: Policy Implications. (2013) authored by Thomas D. Wilson 0001Elena Maceviciute et al.: Developing a Digital Libraries Master's Programme. (2009) authored by Thomas D. Wilson 0001Simon Waddington et al.: PERICLES - Promoting and Enhancing Reuse of Information throughout the Content Lifecycle taking account of Evolving Semantics : Poster - iPres 2013 - Lisbon. (2013) authored by Thomas D. Wilson 0001T. D. Wilson: Information Research: a case study in the free electronic publication of research. (1998) authored by Thomas D. Wilson 0001David R. Streatfield and T. D. Wilson: Information Innovations in Social Services departments: a Third Report on Project Iniss. (1982) authored by Thomas D. Wilson 0001T. D. Wilson: Revisiting user studies and information needs. (2006) authored by Thomas D. Wilson 0001T. D. Wilson: On User studies and Information Needs. (1981) authored by Thomas D. Wilson 0001T. D. Wilson: Models in information behaviour research. (1999) authored by Thomas D. Wilson 0001Thomas D. Wilson and Elena Maceviciute: Information misbehaviour: modelling the motivations for the creation, acceptance and dissemination of misinformation. (2022) authored by Thomas D. Wilson 0001Perla Innocenti et al.: Assessing digital preservation frameworks: the approach of the SHAMAN project. (2009) authored by Thomas D. Wilson 0001David K. Allen and T. D. Wilson: Action, interaction and the role of ambiguity in the introduction of mobile information systems in a UK Police Force. (2004) authored by Thomas D. Wilson 0001Amanda Spink and T. D. Wilson: Toward a Theoretical Framework for Information Retrieval (IR) Evaluation in an Information Seeking Context. (1999) authored by Thomas D. Wilson 0001Tom Wilson: Workload Correlation and Visualization. (2010) authored by Thomas D. Wilson 0001T. D. Wilson: Knowledge management and beyond? Review of: Ackerman, Mark, Pipek, Volkmar, and Wulf, Volker. eds. Sharing expertise: beyond knowledge management. Cambridge, MA: MIT Press, 2003. xx, 418 pp. ISBN 0-262-01195-6 and Bontis, Nick, ed. World Congress on Intellectual Capital readings. Boston, MA: Butterworth Heinemann, 2002. xxix, 392 pp. ISBN 0-7506-7475-X. (2003) authored by Thomas D. Wilson 0001T. D. Wilson: Review of: Bauer, Martin W. & Gaskell, George. editors. Qualitative researching with text, image and sound. A practical handbook. London: Sage Publications, 2000. ISBN 0-7619-6481-9. (2001) authored by Thomas D. Wilson 0001T. D. Wilson: Review of: Bishop, Ann Peterson, Van House, Nancy A. & Buttenfiled, Barbara P. Digital library use: social practice in design and evaluation. Cambridge, MA: MIT Press, 2003. ix, 341 p. ISBN 0-262-02544-7\\n[/INST] Answer:\\n\""
      ]
     },
     "execution_count": 13,
     "metadata": {},
     "output_type": "execute_result"
    }
   ],
   "source": [
    "formatted_prompt=zsp.formatting_prompt_func(prompt_template, examples[0])\n",
    "formatted_prompt"
   ]
  },
  {
   "cell_type": "code",
   "execution_count": 14,
   "metadata": {},
   "outputs": [
    {
     "name": "stdout",
     "output_type": "stream",
     "text": [
      "<Response [200]>\n"
     ]
    }
   ],
   "source": [
    "response=zsp.get_llama_api_response(llama,formatted_prompt)\n",
    "print(response)"
   ]
  },
  {
   "cell_type": "code",
   "execution_count": 28,
   "metadata": {},
   "outputs": [
    {
     "data": {
      "text/plain": [
       "'{\"text\": \"Elena Maceviciute and Thomas D. \"Wilson\": E-Books in Swedish Public \"Libraries\": Policy Implications. (2013) ... T. D. \"Wilson\": Revisiting user studies and information needs. (2006)\"}'"
      ]
     },
     "execution_count": 28,
     "metadata": {},
     "output_type": "execute_result"
    }
   ],
   "source": [
    "response.json()['choices'][0]['message']"
   ]
  },
  {
   "cell_type": "code",
   "execution_count": 9,
   "metadata": {},
   "outputs": [
    {
     "ename": "JSONDecodeError",
     "evalue": "Expecting value: line 1 column 1 (char 0)",
     "output_type": "error",
     "traceback": [
      "\u001b[0;31m---------------------------------------------------------------------------\u001b[0m",
      "\u001b[0;31mJSONDecodeError\u001b[0m                           Traceback (most recent call last)",
      "File \u001b[0;32m/opt/homebrew/Caskroom/miniforge/base/envs/ml/lib/python3.12/site-packages/requests/models.py:971\u001b[0m, in \u001b[0;36mResponse.json\u001b[0;34m(self, **kwargs)\u001b[0m\n\u001b[1;32m    970\u001b[0m \u001b[38;5;28;01mtry\u001b[39;00m:\n\u001b[0;32m--> 971\u001b[0m     \u001b[38;5;28;01mreturn\u001b[39;00m \u001b[43mcomplexjson\u001b[49m\u001b[38;5;241;43m.\u001b[39;49m\u001b[43mloads\u001b[49m\u001b[43m(\u001b[49m\u001b[38;5;28;43mself\u001b[39;49m\u001b[38;5;241;43m.\u001b[39;49m\u001b[43mtext\u001b[49m\u001b[43m,\u001b[49m\u001b[43m \u001b[49m\u001b[38;5;241;43m*\u001b[39;49m\u001b[38;5;241;43m*\u001b[39;49m\u001b[43mkwargs\u001b[49m\u001b[43m)\u001b[49m\n\u001b[1;32m    972\u001b[0m \u001b[38;5;28;01mexcept\u001b[39;00m JSONDecodeError \u001b[38;5;28;01mas\u001b[39;00m e:\n\u001b[1;32m    973\u001b[0m     \u001b[38;5;66;03m# Catch JSON-related errors and raise as requests.JSONDecodeError\u001b[39;00m\n\u001b[1;32m    974\u001b[0m     \u001b[38;5;66;03m# This aliases json.JSONDecodeError and simplejson.JSONDecodeError\u001b[39;00m\n",
      "File \u001b[0;32m/opt/homebrew/Caskroom/miniforge/base/envs/ml/lib/python3.12/json/__init__.py:346\u001b[0m, in \u001b[0;36mloads\u001b[0;34m(s, cls, object_hook, parse_float, parse_int, parse_constant, object_pairs_hook, **kw)\u001b[0m\n\u001b[1;32m    343\u001b[0m \u001b[38;5;28;01mif\u001b[39;00m (\u001b[38;5;28mcls\u001b[39m \u001b[38;5;129;01mis\u001b[39;00m \u001b[38;5;28;01mNone\u001b[39;00m \u001b[38;5;129;01mand\u001b[39;00m object_hook \u001b[38;5;129;01mis\u001b[39;00m \u001b[38;5;28;01mNone\u001b[39;00m \u001b[38;5;129;01mand\u001b[39;00m\n\u001b[1;32m    344\u001b[0m         parse_int \u001b[38;5;129;01mis\u001b[39;00m \u001b[38;5;28;01mNone\u001b[39;00m \u001b[38;5;129;01mand\u001b[39;00m parse_float \u001b[38;5;129;01mis\u001b[39;00m \u001b[38;5;28;01mNone\u001b[39;00m \u001b[38;5;129;01mand\u001b[39;00m\n\u001b[1;32m    345\u001b[0m         parse_constant \u001b[38;5;129;01mis\u001b[39;00m \u001b[38;5;28;01mNone\u001b[39;00m \u001b[38;5;129;01mand\u001b[39;00m object_pairs_hook \u001b[38;5;129;01mis\u001b[39;00m \u001b[38;5;28;01mNone\u001b[39;00m \u001b[38;5;129;01mand\u001b[39;00m \u001b[38;5;129;01mnot\u001b[39;00m kw):\n\u001b[0;32m--> 346\u001b[0m     \u001b[38;5;28;01mreturn\u001b[39;00m \u001b[43m_default_decoder\u001b[49m\u001b[38;5;241;43m.\u001b[39;49m\u001b[43mdecode\u001b[49m\u001b[43m(\u001b[49m\u001b[43ms\u001b[49m\u001b[43m)\u001b[49m\n\u001b[1;32m    347\u001b[0m \u001b[38;5;28;01mif\u001b[39;00m \u001b[38;5;28mcls\u001b[39m \u001b[38;5;129;01mis\u001b[39;00m \u001b[38;5;28;01mNone\u001b[39;00m:\n",
      "File \u001b[0;32m/opt/homebrew/Caskroom/miniforge/base/envs/ml/lib/python3.12/json/decoder.py:337\u001b[0m, in \u001b[0;36mJSONDecoder.decode\u001b[0;34m(self, s, _w)\u001b[0m\n\u001b[1;32m    333\u001b[0m \u001b[38;5;250m\u001b[39m\u001b[38;5;124;03m\"\"\"Return the Python representation of ``s`` (a ``str`` instance\u001b[39;00m\n\u001b[1;32m    334\u001b[0m \u001b[38;5;124;03mcontaining a JSON document).\u001b[39;00m\n\u001b[1;32m    335\u001b[0m \n\u001b[1;32m    336\u001b[0m \u001b[38;5;124;03m\"\"\"\u001b[39;00m\n\u001b[0;32m--> 337\u001b[0m obj, end \u001b[38;5;241m=\u001b[39m \u001b[38;5;28;43mself\u001b[39;49m\u001b[38;5;241;43m.\u001b[39;49m\u001b[43mraw_decode\u001b[49m\u001b[43m(\u001b[49m\u001b[43ms\u001b[49m\u001b[43m,\u001b[49m\u001b[43m \u001b[49m\u001b[43midx\u001b[49m\u001b[38;5;241;43m=\u001b[39;49m\u001b[43m_w\u001b[49m\u001b[43m(\u001b[49m\u001b[43ms\u001b[49m\u001b[43m,\u001b[49m\u001b[43m \u001b[49m\u001b[38;5;241;43m0\u001b[39;49m\u001b[43m)\u001b[49m\u001b[38;5;241;43m.\u001b[39;49m\u001b[43mend\u001b[49m\u001b[43m(\u001b[49m\u001b[43m)\u001b[49m\u001b[43m)\u001b[49m\n\u001b[1;32m    338\u001b[0m end \u001b[38;5;241m=\u001b[39m _w(s, end)\u001b[38;5;241m.\u001b[39mend()\n",
      "File \u001b[0;32m/opt/homebrew/Caskroom/miniforge/base/envs/ml/lib/python3.12/json/decoder.py:355\u001b[0m, in \u001b[0;36mJSONDecoder.raw_decode\u001b[0;34m(self, s, idx)\u001b[0m\n\u001b[1;32m    354\u001b[0m \u001b[38;5;28;01mexcept\u001b[39;00m \u001b[38;5;167;01mStopIteration\u001b[39;00m \u001b[38;5;28;01mas\u001b[39;00m err:\n\u001b[0;32m--> 355\u001b[0m     \u001b[38;5;28;01mraise\u001b[39;00m JSONDecodeError(\u001b[38;5;124m\"\u001b[39m\u001b[38;5;124mExpecting value\u001b[39m\u001b[38;5;124m\"\u001b[39m, s, err\u001b[38;5;241m.\u001b[39mvalue) \u001b[38;5;28;01mfrom\u001b[39;00m \u001b[38;5;28;01mNone\u001b[39;00m\n\u001b[1;32m    356\u001b[0m \u001b[38;5;28;01mreturn\u001b[39;00m obj, end\n",
      "\u001b[0;31mJSONDecodeError\u001b[0m: Expecting value: line 1 column 1 (char 0)",
      "\nDuring handling of the above exception, another exception occurred:\n",
      "\u001b[0;31mJSONDecodeError\u001b[0m                           Traceback (most recent call last)",
      "Cell \u001b[0;32mIn[9], line 1\u001b[0m\n\u001b[0;32m----> 1\u001b[0m responses \u001b[38;5;241m=\u001b[39m \u001b[43mzsp\u001b[49m\u001b[38;5;241;43m.\u001b[39;49m\u001b[43mzero_shot_prompting_api\u001b[49m\u001b[43m(\u001b[49m\u001b[43mllama\u001b[49m\u001b[43m,\u001b[49m\n\u001b[1;32m      2\u001b[0m \u001b[43m    \u001b[49m\u001b[43mexamples\u001b[49m\u001b[43m,\u001b[49m\u001b[43m \u001b[49m\u001b[43mprompt_template\u001b[49m\u001b[43m)\u001b[49m\n\u001b[1;32m      3\u001b[0m \u001b[38;5;28;01mwith\u001b[39;00m \u001b[38;5;28mopen\u001b[39m(save_file, \u001b[38;5;124m'\u001b[39m\u001b[38;5;124mw\u001b[39m\u001b[38;5;124m'\u001b[39m) \u001b[38;5;28;01mas\u001b[39;00m file:\n\u001b[1;32m      4\u001b[0m     json\u001b[38;5;241m.\u001b[39mdump(responses, file)\n",
      "File \u001b[0;32m~/Documents/Projects/ARDI-Scholarly-QALD/test/../src/models/zero_shot_prompting.py:157\u001b[0m, in \u001b[0;36mzero_shot_prompting_api\u001b[0;34m(llamaApi, examples, prompt_template, evidence_selection, verbalizer, max_length)\u001b[0m\n\u001b[1;32m    154\u001b[0m responses \u001b[38;5;241m=\u001b[39m []\n\u001b[1;32m    156\u001b[0m \u001b[38;5;28;01mfor\u001b[39;00m formatted_prompt \u001b[38;5;129;01min\u001b[39;00m formatted_prompts:\n\u001b[0;32m--> 157\u001b[0m     response \u001b[38;5;241m=\u001b[39m \u001b[43mget_llama_api_response\u001b[49m\u001b[43m(\u001b[49m\u001b[43mllamaApi\u001b[49m\u001b[43m,\u001b[49m\u001b[43mformatted_prompt\u001b[49m\u001b[43m)\u001b[49m\n\u001b[1;32m    158\u001b[0m     \u001b[38;5;28mprint\u001b[39m(response\u001b[38;5;241m.\u001b[39mjson())\n\u001b[1;32m    159\u001b[0m     responses\u001b[38;5;241m.\u001b[39mappend(response\u001b[38;5;241m.\u001b[39mjson())\n",
      "File \u001b[0;32m~/Documents/Projects/ARDI-Scholarly-QALD/test/../src/models/zero_shot_prompting.py:44\u001b[0m, in \u001b[0;36mget_llama_api_response\u001b[0;34m(llamaApi, question)\u001b[0m\n\u001b[1;32m     42\u001b[0m \u001b[38;5;28;01mdef\u001b[39;00m \u001b[38;5;21mget_llama_api_response\u001b[39m(llamaApi,question):\n\u001b[1;32m     43\u001b[0m     api_request_json[\u001b[38;5;124m\"\u001b[39m\u001b[38;5;124mmessages\u001b[39m\u001b[38;5;124m\"\u001b[39m] \u001b[38;5;241m=\u001b[39m [{\u001b[38;5;124m\"\u001b[39m\u001b[38;5;124mrole\u001b[39m\u001b[38;5;124m\"\u001b[39m: \u001b[38;5;124m\"\u001b[39m\u001b[38;5;124muser\u001b[39m\u001b[38;5;124m\"\u001b[39m, \u001b[38;5;124m\"\u001b[39m\u001b[38;5;124mcontent\u001b[39m\u001b[38;5;124m\"\u001b[39m: question}]\n\u001b[0;32m---> 44\u001b[0m     response \u001b[38;5;241m=\u001b[39m \u001b[43mllamaApi\u001b[49m\u001b[38;5;241;43m.\u001b[39;49m\u001b[43mrun\u001b[49m\u001b[43m(\u001b[49m\u001b[43mapi_request_json\u001b[49m\u001b[43m)\u001b[49m\n\u001b[1;32m     45\u001b[0m     \u001b[38;5;28;01mreturn\u001b[39;00m response\n",
      "File \u001b[0;32m/opt/homebrew/Caskroom/miniforge/base/envs/ml/lib/python3.12/site-packages/llamaapi/llamaapi.py:67\u001b[0m, in \u001b[0;36mLlamaAPI.run\u001b[0;34m(self, api_request_json)\u001b[0m\n\u001b[1;32m     65\u001b[0m     \u001b[38;5;28;01mreturn\u001b[39;00m \u001b[38;5;28mself\u001b[39m\u001b[38;5;241m.\u001b[39mrun_stream(api_request_json)\n\u001b[1;32m     66\u001b[0m \u001b[38;5;28;01melse\u001b[39;00m:\n\u001b[0;32m---> 67\u001b[0m     \u001b[38;5;28;01mreturn\u001b[39;00m \u001b[38;5;28;43mself\u001b[39;49m\u001b[38;5;241;43m.\u001b[39;49m\u001b[43mrun_sync\u001b[49m\u001b[43m(\u001b[49m\u001b[43mapi_request_json\u001b[49m\u001b[43m)\u001b[49m\n",
      "File \u001b[0;32m/opt/homebrew/Caskroom/miniforge/base/envs/ml/lib/python3.12/site-packages/llamaapi/llamaapi.py:53\u001b[0m, in \u001b[0;36mLlamaAPI.run_sync\u001b[0;34m(self, api_request_json)\u001b[0m\n\u001b[1;32m     51\u001b[0m response \u001b[38;5;241m=\u001b[39m requests\u001b[38;5;241m.\u001b[39mpost(\u001b[38;5;124mf\u001b[39m\u001b[38;5;124m\"\u001b[39m\u001b[38;5;132;01m{\u001b[39;00m\u001b[38;5;28mself\u001b[39m\u001b[38;5;241m.\u001b[39mhostname\u001b[38;5;132;01m}\u001b[39;00m\u001b[38;5;132;01m{\u001b[39;00m\u001b[38;5;28mself\u001b[39m\u001b[38;5;241m.\u001b[39mdomain_path\u001b[38;5;132;01m}\u001b[39;00m\u001b[38;5;124m\"\u001b[39m, headers\u001b[38;5;241m=\u001b[39m\u001b[38;5;28mself\u001b[39m\u001b[38;5;241m.\u001b[39mheaders, json\u001b[38;5;241m=\u001b[39mapi_request_json)\n\u001b[1;32m     52\u001b[0m \u001b[38;5;28;01mif\u001b[39;00m response\u001b[38;5;241m.\u001b[39mstatus_code \u001b[38;5;241m!=\u001b[39m \u001b[38;5;241m200\u001b[39m:        \n\u001b[0;32m---> 53\u001b[0m     \u001b[38;5;28;01mraise\u001b[39;00m \u001b[38;5;167;01mException\u001b[39;00m(\u001b[38;5;124mf\u001b[39m\u001b[38;5;124m\"\u001b[39m\u001b[38;5;124mPOST \u001b[39m\u001b[38;5;132;01m{\u001b[39;00mresponse\u001b[38;5;241m.\u001b[39mstatus_code\u001b[38;5;132;01m}\u001b[39;00m\u001b[38;5;124m \u001b[39m\u001b[38;5;132;01m{\u001b[39;00m\u001b[43mresponse\u001b[49m\u001b[38;5;241;43m.\u001b[39;49m\u001b[43mjson\u001b[49m\u001b[43m(\u001b[49m\u001b[43m)\u001b[49m[\u001b[38;5;124m'\u001b[39m\u001b[38;5;124mdetail\u001b[39m\u001b[38;5;124m'\u001b[39m]\u001b[38;5;132;01m}\u001b[39;00m\u001b[38;5;124m\"\u001b[39m)\n\u001b[1;32m     54\u001b[0m \u001b[38;5;28;01mreturn\u001b[39;00m response\n",
      "File \u001b[0;32m/opt/homebrew/Caskroom/miniforge/base/envs/ml/lib/python3.12/site-packages/requests/models.py:975\u001b[0m, in \u001b[0;36mResponse.json\u001b[0;34m(self, **kwargs)\u001b[0m\n\u001b[1;32m    971\u001b[0m     \u001b[38;5;28;01mreturn\u001b[39;00m complexjson\u001b[38;5;241m.\u001b[39mloads(\u001b[38;5;28mself\u001b[39m\u001b[38;5;241m.\u001b[39mtext, \u001b[38;5;241m*\u001b[39m\u001b[38;5;241m*\u001b[39mkwargs)\n\u001b[1;32m    972\u001b[0m \u001b[38;5;28;01mexcept\u001b[39;00m JSONDecodeError \u001b[38;5;28;01mas\u001b[39;00m e:\n\u001b[1;32m    973\u001b[0m     \u001b[38;5;66;03m# Catch JSON-related errors and raise as requests.JSONDecodeError\u001b[39;00m\n\u001b[1;32m    974\u001b[0m     \u001b[38;5;66;03m# This aliases json.JSONDecodeError and simplejson.JSONDecodeError\u001b[39;00m\n\u001b[0;32m--> 975\u001b[0m     \u001b[38;5;28;01mraise\u001b[39;00m RequestsJSONDecodeError(e\u001b[38;5;241m.\u001b[39mmsg, e\u001b[38;5;241m.\u001b[39mdoc, e\u001b[38;5;241m.\u001b[39mpos)\n",
      "\u001b[0;31mJSONDecodeError\u001b[0m: Expecting value: line 1 column 1 (char 0)"
     ]
    }
   ],
   "source": [
    "responses = zsp.zero_shot_prompting_api(llama,\n",
    "    examples, prompt_template)\n",
    "with open(save_file, 'w') as file:\n",
    "    json.dump(responses, file)"
   ]
  },
  {
   "cell_type": "code",
   "execution_count": null,
   "metadata": {},
   "outputs": [],
   "source": [
    "responses = zsp.zero_shot_prompting_api(\n",
    "    examples, prompt_template)\n",
    "with open(save_file, 'w') as file:\n",
    "    json.dump(responses, file)\n",
    "\n"
   ]
  },
  {
   "cell_type": "code",
   "execution_count": null,
   "metadata": {},
   "outputs": [],
   "source": [
    "responses_v = zsp.zero_shot_prompting_api(\n",
    "    examples, prompt_template, verbalizer=True)\n",
    "with open(save_file_v, 'w') as file:\n",
    "    json.dump(responses_v, file)"
   ]
  },
  {
   "cell_type": "code",
   "execution_count": null,
   "metadata": {},
   "outputs": [],
   "source": [
    "responses_v_e = zsp.zero_shot_prompting_api(\n",
    "    examples, prompt_template, evidence_selection=True, verbalizer=True)\n",
    "with open(save_file_v_e, 'w') as file:\n",
    "    json.dump(responses_v_e, file)\n",
    "\n"
   ]
  }
 ],
 "metadata": {
  "kernelspec": {
   "display_name": "ml",
   "language": "python",
   "name": "python3"
  },
  "language_info": {
   "codemirror_mode": {
    "name": "ipython",
    "version": 3
   },
   "file_extension": ".py",
   "mimetype": "text/x-python",
   "name": "python",
   "nbconvert_exporter": "python",
   "pygments_lexer": "ipython3",
   "version": "3.12.0"
  }
 },
 "nbformat": 4,
 "nbformat_minor": 2
}
